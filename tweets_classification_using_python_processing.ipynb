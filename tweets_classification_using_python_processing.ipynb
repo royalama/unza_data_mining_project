{
 "cells": [
  {
   "cell_type": "markdown",
   "metadata": {},
   "source": [
    "# Data Processing - Analysis of tweets by reactions and ratings"
   ]
  },
  {
   "cell_type": "markdown",
   "metadata": {},
   "source": [
    "## Import Required Packages"
   ]
  },
  {
   "cell_type": "code",
   "execution_count": 118,
   "metadata": {},
   "outputs": [
    {
     "ename": "ImportError",
     "evalue": "cannot import name 'SVM' from 'sklearn' (C:\\Users\\chaikatishar\\Anaconda3\\lib\\site-packages\\sklearn\\__init__.py)",
     "output_type": "error",
     "traceback": [
      "\u001b[1;31m---------------------------------------------------------------------------\u001b[0m",
      "\u001b[1;31mImportError\u001b[0m                               Traceback (most recent call last)",
      "\u001b[1;32m<ipython-input-118-2eefcacb24a5>\u001b[0m in \u001b[0;36m<module>\u001b[1;34m\u001b[0m\n\u001b[0;32m     17\u001b[0m \u001b[1;33m\u001b[0m\u001b[0m\n\u001b[0;32m     18\u001b[0m \u001b[1;32mfrom\u001b[0m \u001b[0msklearn\u001b[0m\u001b[1;33m.\u001b[0m\u001b[0msvm\u001b[0m \u001b[1;32mimport\u001b[0m \u001b[0mSVC\u001b[0m\u001b[1;33m,\u001b[0m \u001b[0mLinearSVC\u001b[0m\u001b[1;33m\u001b[0m\u001b[1;33m\u001b[0m\u001b[0m\n\u001b[1;32m---> 19\u001b[1;33m \u001b[1;32mfrom\u001b[0m \u001b[0msklearn\u001b[0m \u001b[1;32mimport\u001b[0m \u001b[0mSVM\u001b[0m\u001b[1;33m\u001b[0m\u001b[1;33m\u001b[0m\u001b[0m\n\u001b[0m\u001b[0;32m     20\u001b[0m \u001b[1;32mfrom\u001b[0m \u001b[0msklearn\u001b[0m\u001b[1;33m.\u001b[0m\u001b[0mlinear_model\u001b[0m \u001b[1;32mimport\u001b[0m \u001b[0mLogisticRegression\u001b[0m\u001b[1;33m\u001b[0m\u001b[1;33m\u001b[0m\u001b[0m\n\u001b[0;32m     21\u001b[0m \u001b[1;32mfrom\u001b[0m \u001b[0msklearn\u001b[0m\u001b[1;33m.\u001b[0m\u001b[0mensemble\u001b[0m \u001b[1;32mimport\u001b[0m \u001b[0mRandomForestClassifier\u001b[0m\u001b[1;33m\u001b[0m\u001b[1;33m\u001b[0m\u001b[0m\n",
      "\u001b[1;31mImportError\u001b[0m: cannot import name 'SVM' from 'sklearn' (C:\\Users\\chaikatishar\\Anaconda3\\lib\\site-packages\\sklearn\\__init__.py)"
     ]
    }
   ],
   "source": [
    "from IPython.core.interactiveshell import InteractiveShell\n",
    "InteractiveShell.ast_node_interactivity = \"all\"\n",
    "\n",
    "import matplotlib.pyplot as plt\n",
    "import seaborn as sns\n",
    "import numpy as np\n",
    "\n",
    "import pandas as pd\n",
    "import re\n",
    "import string\n",
    "from random import randint\n",
    "import math as m\n",
    "\n",
    "from nltk.stem.porter import PorterStemmer\n",
    "from nltk.corpus import stopwords\n",
    "from collections import Counter\n",
    "\n",
    "from sklearn.svm import SVC, LinearSVC\n",
    "from sklearn import SVM\n",
    "from sklearn.linear_model import LogisticRegression\n",
    "from sklearn.neighbors import KNeighborsClassifier\n",
    "\n",
    "from sklearn.preprocessing import LabelEncoder, StandardScaler, OrdinalEncoder\n",
    "from sklearn.model_selection import train_test_split, cross_val_score\n",
    "from sklearn.feature_extraction.text import TfidfVectorizer, CountVectorizer\n",
    "from sklearn.linear_model import LogisticRegression\n",
    "from sklearn.metrics import confusion_matrix, classification_report,accuracy_score, recall_score, precision_score,f1_score"
   ]
  },
  {
   "cell_type": "markdown",
   "metadata": {},
   "source": [
    "## Read Tweet Data from CSV"
   ]
  },
  {
   "cell_type": "code",
   "execution_count": 143,
   "metadata": {},
   "outputs": [],
   "source": [
    "# Use pandas to ingest data from csv file\n",
    "tweets = pd.read_csv('tweets_harvested_data_final.csv')"
   ]
  },
  {
   "cell_type": "markdown",
   "metadata": {},
   "source": [
    "## Descriptive Statistics"
   ]
  },
  {
   "cell_type": "code",
   "execution_count": 144,
   "metadata": {},
   "outputs": [
    {
     "data": {
      "text/html": [
       "<div>\n",
       "<style scoped>\n",
       "    .dataframe tbody tr th:only-of-type {\n",
       "        vertical-align: middle;\n",
       "    }\n",
       "\n",
       "    .dataframe tbody tr th {\n",
       "        vertical-align: top;\n",
       "    }\n",
       "\n",
       "    .dataframe thead th {\n",
       "        text-align: right;\n",
       "    }\n",
       "</style>\n",
       "<table border=\"1\" class=\"dataframe\">\n",
       "  <thead>\n",
       "    <tr style=\"text-align: right;\">\n",
       "      <th></th>\n",
       "      <th>tweet_id</th>\n",
       "      <th>retweet_count</th>\n",
       "      <th>quote_count</th>\n",
       "      <th>reply_count</th>\n",
       "      <th>favorite_count</th>\n",
       "    </tr>\n",
       "  </thead>\n",
       "  <tbody>\n",
       "    <tr>\n",
       "      <th>count</th>\n",
       "      <td>4.900000e+03</td>\n",
       "      <td>4900.000000</td>\n",
       "      <td>4900.000000</td>\n",
       "      <td>4900.000000</td>\n",
       "      <td>4900.000000</td>\n",
       "    </tr>\n",
       "    <tr>\n",
       "      <th>mean</th>\n",
       "      <td>1.342603e+18</td>\n",
       "      <td>1.442245</td>\n",
       "      <td>0.971020</td>\n",
       "      <td>2.351633</td>\n",
       "      <td>8.228367</td>\n",
       "    </tr>\n",
       "    <tr>\n",
       "      <th>std</th>\n",
       "      <td>6.174369e+16</td>\n",
       "      <td>4.061646</td>\n",
       "      <td>4.069008</td>\n",
       "      <td>5.335855</td>\n",
       "      <td>19.066773</td>\n",
       "    </tr>\n",
       "    <tr>\n",
       "      <th>min</th>\n",
       "      <td>1.240862e+18</td>\n",
       "      <td>0.000000</td>\n",
       "      <td>0.000000</td>\n",
       "      <td>0.000000</td>\n",
       "      <td>0.000000</td>\n",
       "    </tr>\n",
       "    <tr>\n",
       "      <th>25%</th>\n",
       "      <td>1.274015e+18</td>\n",
       "      <td>0.000000</td>\n",
       "      <td>0.000000</td>\n",
       "      <td>0.000000</td>\n",
       "      <td>2.000000</td>\n",
       "    </tr>\n",
       "    <tr>\n",
       "      <th>50%</th>\n",
       "      <td>1.368067e+18</td>\n",
       "      <td>1.000000</td>\n",
       "      <td>0.000000</td>\n",
       "      <td>1.000000</td>\n",
       "      <td>4.000000</td>\n",
       "    </tr>\n",
       "    <tr>\n",
       "      <th>75%</th>\n",
       "      <td>1.394375e+18</td>\n",
       "      <td>2.000000</td>\n",
       "      <td>1.000000</td>\n",
       "      <td>2.000000</td>\n",
       "      <td>9.000000</td>\n",
       "    </tr>\n",
       "    <tr>\n",
       "      <th>max</th>\n",
       "      <td>1.421714e+18</td>\n",
       "      <td>171.000000</td>\n",
       "      <td>126.000000</td>\n",
       "      <td>91.000000</td>\n",
       "      <td>596.000000</td>\n",
       "    </tr>\n",
       "  </tbody>\n",
       "</table>\n",
       "</div>"
      ],
      "text/plain": [
       "           tweet_id  retweet_count  quote_count  reply_count  favorite_count\n",
       "count  4.900000e+03    4900.000000  4900.000000  4900.000000     4900.000000\n",
       "mean   1.342603e+18       1.442245     0.971020     2.351633        8.228367\n",
       "std    6.174369e+16       4.061646     4.069008     5.335855       19.066773\n",
       "min    1.240862e+18       0.000000     0.000000     0.000000        0.000000\n",
       "25%    1.274015e+18       0.000000     0.000000     0.000000        2.000000\n",
       "50%    1.368067e+18       1.000000     0.000000     1.000000        4.000000\n",
       "75%    1.394375e+18       2.000000     1.000000     2.000000        9.000000\n",
       "max    1.421714e+18     171.000000   126.000000    91.000000      596.000000"
      ]
     },
     "execution_count": 144,
     "metadata": {},
     "output_type": "execute_result"
    }
   ],
   "source": [
    "tweets.describe()"
   ]
  },
  {
   "cell_type": "code",
   "execution_count": 145,
   "metadata": {},
   "outputs": [
    {
     "name": "stdout",
     "output_type": "stream",
     "text": [
      "<class 'pandas.core.frame.DataFrame'>\n",
      "RangeIndex: 4900 entries, 0 to 4899\n",
      "Data columns (total 7 columns):\n",
      " #   Column          Non-Null Count  Dtype \n",
      "---  ------          --------------  ----- \n",
      " 0   tweet_id        4900 non-null   int64 \n",
      " 1   created_at      4900 non-null   object\n",
      " 2   text            4900 non-null   object\n",
      " 3   retweet_count   4900 non-null   int64 \n",
      " 4   quote_count     4900 non-null   int64 \n",
      " 5   reply_count     4900 non-null   int64 \n",
      " 6   favorite_count  4900 non-null   int64 \n",
      "dtypes: int64(5), object(2)\n",
      "memory usage: 268.1+ KB\n"
     ]
    }
   ],
   "source": [
    "tweets.info()"
   ]
  },
  {
   "cell_type": "markdown",
   "metadata": {},
   "source": [
    "## Sample Records\n",
    "### HEAD - Display top 5 observations"
   ]
  },
  {
   "cell_type": "code",
   "execution_count": 146,
   "metadata": {},
   "outputs": [
    {
     "data": {
      "text/html": [
       "<div>\n",
       "<style scoped>\n",
       "    .dataframe tbody tr th:only-of-type {\n",
       "        vertical-align: middle;\n",
       "    }\n",
       "\n",
       "    .dataframe tbody tr th {\n",
       "        vertical-align: top;\n",
       "    }\n",
       "\n",
       "    .dataframe thead th {\n",
       "        text-align: right;\n",
       "    }\n",
       "</style>\n",
       "<table border=\"1\" class=\"dataframe\">\n",
       "  <thead>\n",
       "    <tr style=\"text-align: right;\">\n",
       "      <th></th>\n",
       "      <th>tweet_id</th>\n",
       "      <th>created_at</th>\n",
       "      <th>text</th>\n",
       "      <th>retweet_count</th>\n",
       "      <th>quote_count</th>\n",
       "      <th>reply_count</th>\n",
       "      <th>favorite_count</th>\n",
       "    </tr>\n",
       "  </thead>\n",
       "  <tbody>\n",
       "    <tr>\n",
       "      <th>0</th>\n",
       "      <td>1421713684791955460</td>\n",
       "      <td>Sun Aug 01 06:05:31 +0000 2021</td>\n",
       "      <td>https://t.co/DB8QOR5vBd\\nECZ says Investigatio...</td>\n",
       "      <td>1</td>\n",
       "      <td>2</td>\n",
       "      <td>1</td>\n",
       "      <td>14</td>\n",
       "    </tr>\n",
       "    <tr>\n",
       "      <th>1</th>\n",
       "      <td>1421711016732266504</td>\n",
       "      <td>Sun Aug 01 05:54:55 +0000 2021</td>\n",
       "      <td>https://t.co/nrJuxItvkr\\nChief Simamba castiga...</td>\n",
       "      <td>2</td>\n",
       "      <td>1</td>\n",
       "      <td>4</td>\n",
       "      <td>7</td>\n",
       "    </tr>\n",
       "    <tr>\n",
       "      <th>2</th>\n",
       "      <td>1421707047737991169</td>\n",
       "      <td>Sun Aug 01 05:39:08 +0000 2021</td>\n",
       "      <td>https://t.co/CJxF04D6jU\\nI Survived the Corona...</td>\n",
       "      <td>1</td>\n",
       "      <td>0</td>\n",
       "      <td>0</td>\n",
       "      <td>4</td>\n",
       "    </tr>\n",
       "    <tr>\n",
       "      <th>3</th>\n",
       "      <td>1421704125067235329</td>\n",
       "      <td>Sun Aug 01 05:27:32 +0000 2021</td>\n",
       "      <td>https://t.co/EwsIfq7fUR\\nZambia commits to sup...</td>\n",
       "      <td>0</td>\n",
       "      <td>0</td>\n",
       "      <td>2</td>\n",
       "      <td>6</td>\n",
       "    </tr>\n",
       "    <tr>\n",
       "      <th>4</th>\n",
       "      <td>1421702425434537984</td>\n",
       "      <td>Sun Aug 01 05:20:46 +0000 2021</td>\n",
       "      <td>https://t.co/r6XV81L8OG\\nThe Verification Proc...</td>\n",
       "      <td>1</td>\n",
       "      <td>0</td>\n",
       "      <td>0</td>\n",
       "      <td>8</td>\n",
       "    </tr>\n",
       "  </tbody>\n",
       "</table>\n",
       "</div>"
      ],
      "text/plain": [
       "              tweet_id                      created_at  \\\n",
       "0  1421713684791955460  Sun Aug 01 06:05:31 +0000 2021   \n",
       "1  1421711016732266504  Sun Aug 01 05:54:55 +0000 2021   \n",
       "2  1421707047737991169  Sun Aug 01 05:39:08 +0000 2021   \n",
       "3  1421704125067235329  Sun Aug 01 05:27:32 +0000 2021   \n",
       "4  1421702425434537984  Sun Aug 01 05:20:46 +0000 2021   \n",
       "\n",
       "                                                text  retweet_count  \\\n",
       "0  https://t.co/DB8QOR5vBd\\nECZ says Investigatio...              1   \n",
       "1  https://t.co/nrJuxItvkr\\nChief Simamba castiga...              2   \n",
       "2  https://t.co/CJxF04D6jU\\nI Survived the Corona...              1   \n",
       "3  https://t.co/EwsIfq7fUR\\nZambia commits to sup...              0   \n",
       "4  https://t.co/r6XV81L8OG\\nThe Verification Proc...              1   \n",
       "\n",
       "   quote_count  reply_count  favorite_count  \n",
       "0            2            1              14  \n",
       "1            1            4               7  \n",
       "2            0            0               4  \n",
       "3            0            2               6  \n",
       "4            0            0               8  "
      ]
     },
     "execution_count": 146,
     "metadata": {},
     "output_type": "execute_result"
    }
   ],
   "source": [
    "tweets.head()"
   ]
  },
  {
   "cell_type": "markdown",
   "metadata": {},
   "source": [
    "### TAIL - Display last 5 observations"
   ]
  },
  {
   "cell_type": "code",
   "execution_count": 147,
   "metadata": {
    "scrolled": true
   },
   "outputs": [
    {
     "data": {
      "text/html": [
       "<div>\n",
       "<style scoped>\n",
       "    .dataframe tbody tr th:only-of-type {\n",
       "        vertical-align: middle;\n",
       "    }\n",
       "\n",
       "    .dataframe tbody tr th {\n",
       "        vertical-align: top;\n",
       "    }\n",
       "\n",
       "    .dataframe thead th {\n",
       "        text-align: right;\n",
       "    }\n",
       "</style>\n",
       "<table border=\"1\" class=\"dataframe\">\n",
       "  <thead>\n",
       "    <tr style=\"text-align: right;\">\n",
       "      <th></th>\n",
       "      <th>tweet_id</th>\n",
       "      <th>created_at</th>\n",
       "      <th>text</th>\n",
       "      <th>retweet_count</th>\n",
       "      <th>quote_count</th>\n",
       "      <th>reply_count</th>\n",
       "      <th>favorite_count</th>\n",
       "    </tr>\n",
       "  </thead>\n",
       "  <tbody>\n",
       "    <tr>\n",
       "      <th>4895</th>\n",
       "      <td>1240868957877424129</td>\n",
       "      <td>Fri Mar 20 05:13:08 +0000 2020</td>\n",
       "      <td>https://t.co/2RSia7jdaT\\nCholera more deadly t...</td>\n",
       "      <td>1</td>\n",
       "      <td>2</td>\n",
       "      <td>9</td>\n",
       "      <td>7</td>\n",
       "    </tr>\n",
       "    <tr>\n",
       "      <th>4896</th>\n",
       "      <td>1240868204588777477</td>\n",
       "      <td>Fri Mar 20 05:10:08 +0000 2020</td>\n",
       "      <td>https://t.co/EmqxNOXpQT\\nFAZ Suspends League O...</td>\n",
       "      <td>0</td>\n",
       "      <td>0</td>\n",
       "      <td>0</td>\n",
       "      <td>1</td>\n",
       "    </tr>\n",
       "    <tr>\n",
       "      <th>4897</th>\n",
       "      <td>1240865962129326081</td>\n",
       "      <td>Fri Mar 20 05:01:14 +0000 2020</td>\n",
       "      <td>https://t.co/wyYqAPCXV8\\nKanganja directs the ...</td>\n",
       "      <td>5</td>\n",
       "      <td>0</td>\n",
       "      <td>1</td>\n",
       "      <td>14</td>\n",
       "    </tr>\n",
       "    <tr>\n",
       "      <th>4898</th>\n",
       "      <td>1240862750848569344</td>\n",
       "      <td>Fri Mar 20 04:48:28 +0000 2020</td>\n",
       "      <td>https://t.co/T6h0xlmhbx\\nLusaka Water advises ...</td>\n",
       "      <td>2</td>\n",
       "      <td>0</td>\n",
       "      <td>1</td>\n",
       "      <td>3</td>\n",
       "    </tr>\n",
       "    <tr>\n",
       "      <th>4899</th>\n",
       "      <td>1240861937505894400</td>\n",
       "      <td>Fri Mar 20 04:45:14 +0000 2020</td>\n",
       "      <td>https://t.co/4dnuUEDZBH\\nUPND Justifies the be...</td>\n",
       "      <td>2</td>\n",
       "      <td>1</td>\n",
       "      <td>1</td>\n",
       "      <td>3</td>\n",
       "    </tr>\n",
       "  </tbody>\n",
       "</table>\n",
       "</div>"
      ],
      "text/plain": [
       "                 tweet_id                      created_at  \\\n",
       "4895  1240868957877424129  Fri Mar 20 05:13:08 +0000 2020   \n",
       "4896  1240868204588777477  Fri Mar 20 05:10:08 +0000 2020   \n",
       "4897  1240865962129326081  Fri Mar 20 05:01:14 +0000 2020   \n",
       "4898  1240862750848569344  Fri Mar 20 04:48:28 +0000 2020   \n",
       "4899  1240861937505894400  Fri Mar 20 04:45:14 +0000 2020   \n",
       "\n",
       "                                                   text  retweet_count  \\\n",
       "4895  https://t.co/2RSia7jdaT\\nCholera more deadly t...              1   \n",
       "4896  https://t.co/EmqxNOXpQT\\nFAZ Suspends League O...              0   \n",
       "4897  https://t.co/wyYqAPCXV8\\nKanganja directs the ...              5   \n",
       "4898  https://t.co/T6h0xlmhbx\\nLusaka Water advises ...              2   \n",
       "4899  https://t.co/4dnuUEDZBH\\nUPND Justifies the be...              2   \n",
       "\n",
       "      quote_count  reply_count  favorite_count  \n",
       "4895            2            9               7  \n",
       "4896            0            0               1  \n",
       "4897            0            1              14  \n",
       "4898            0            1               3  \n",
       "4899            1            1               3  "
      ]
     },
     "execution_count": 147,
     "metadata": {},
     "output_type": "execute_result"
    }
   ],
   "source": [
    "tweets.tail()"
   ]
  },
  {
   "cell_type": "markdown",
   "metadata": {},
   "source": [
    "## Data Pre-processing"
   ]
  },
  {
   "cell_type": "markdown",
   "metadata": {},
   "source": [
    "## Retweet Count Feature"
   ]
  },
  {
   "cell_type": "markdown",
   "metadata": {},
   "source": [
    "### Analyse Feature Distribution and Identify Outliers"
   ]
  },
  {
   "cell_type": "code",
   "execution_count": 148,
   "metadata": {
    "scrolled": false
   },
   "outputs": [
    {
     "data": {
      "text/plain": [
       "<Figure size 1152x360 with 0 Axes>"
      ]
     },
     "execution_count": 148,
     "metadata": {},
     "output_type": "execute_result"
    },
    {
     "data": {
      "text/plain": [
       "<AxesSubplot:xlabel='retweet_count', ylabel='Density'>"
      ]
     },
     "execution_count": 148,
     "metadata": {},
     "output_type": "execute_result"
    },
    {
     "data": {
      "image/png": "[encoded data removed]",
      "text/plain": [
       "<Figure size 1152x360 with 1 Axes>"
      ]
     },
     "metadata": {
      "needs_background": "light"
     },
     "output_type": "display_data"
    }
   ],
   "source": [
    "plt.figure(figsize=(16,5))\n",
    "sns.distplot(tweets['retweet_count'])"
   ]
  },
  {
   "cell_type": "code",
   "execution_count": 149,
   "metadata": {},
   "outputs": [
    {
     "name": "stdout",
     "output_type": "stream",
     "text": [
      "(-0.001, 28.5]    4888\n",
      "(28.5, 57.0]         8\n",
      "(57.0, 85.5]         2\n",
      "(142.5, 171.0]       1\n",
      "(85.5, 114.0]        1\n",
      "(114.0, 142.5]       0\n",
      "Name: retweet_quantile, dtype: int64\n"
     ]
    }
   ],
   "source": [
    "#Identify outliers\n",
    "#Calculate retweet quantiles to confirm outlier ranges\n",
    "\n",
    "#add column for retweet quantiles, \n",
    "tweets['retweet_quantile'] = pd.cut(tweets['retweet_count'], bins=np.linspace(0, 171, 7),\n",
    "                                     include_lowest = True)\n",
    "\n",
    "#show quantile ranges\n",
    "print(tweets['retweet_quantile'].value_counts())"
   ]
  },
  {
   "cell_type": "code",
   "execution_count": 150,
   "metadata": {},
   "outputs": [],
   "source": [
    "# value counts confirm 99.7% of observations are between 0 and 29, other ranges \n",
    "# will be treated as outliers and will be updated with the average figure\n",
    "\n",
    "# get average\n",
    "retweet_mean = tweets['retweet_count'].mean() # = 1.4422448979591838\n",
    "\n",
    "#round off\n",
    "retweet_mean = m.ceil(retweet_mean) # = 2\n",
    "\n",
    "#use mask to update outliers, above 28.5\n",
    "\n",
    "tweets.loc[tweets['retweet_count'] > 28.5, \"retweet_count\"] = retweet_mean"
   ]
  },
  {
   "cell_type": "markdown",
   "metadata": {},
   "source": [
    "### confirm removal of outliers"
   ]
  },
  {
   "cell_type": "code",
   "execution_count": 151,
   "metadata": {},
   "outputs": [
    {
     "name": "stdout",
     "output_type": "stream",
     "text": [
      "28\n"
     ]
    }
   ],
   "source": [
    "#check max value\n",
    "print(tweets['retweet_count'].max())\n",
    "\n",
    "#max value 28 confirms outliers removed"
   ]
  },
  {
   "cell_type": "markdown",
   "metadata": {},
   "source": [
    "### recompute quantile to reflect removal of outliers"
   ]
  },
  {
   "cell_type": "code",
   "execution_count": 152,
   "metadata": {},
   "outputs": [
    {
     "name": "stdout",
     "output_type": "stream",
     "text": [
      "(-0.001, 7.0]    4788\n",
      "(7.0, 14.0]        86\n",
      "(14.0, 21.0]       20\n",
      "(21.0, 28.0]        6\n",
      "Name: retweet_quantile, dtype: int64\n"
     ]
    }
   ],
   "source": [
    "#compute and replace quantile field, use 4 bins\n",
    "tweets['retweet_quantile'] = pd.cut(tweets['retweet_count'], bins=np.linspace(0, 28, 5),\n",
    "                                     include_lowest = True)\n",
    "\n",
    "print(tweets['retweet_quantile'].value_counts())"
   ]
  },
  {
   "cell_type": "code",
   "execution_count": 153,
   "metadata": {},
   "outputs": [
    {
     "name": "stdout",
     "output_type": "stream",
     "text": [
      "A-Low          3524\n",
      "B-Average       883\n",
      "C-High          342\n",
      "D-Very High     151\n",
      "Name: retweet_quantile, dtype: int64\n"
     ]
    }
   ],
   "source": [
    "#recompute quantile with custom bin edges\n",
    "# 0 - 1 Low\n",
    "# 1 - 3 Average\n",
    "# 3 - 6 High\n",
    "# 6 - 28 Very High\n",
    "\n",
    "tweets['retweet_quantile'] = pd.cut(tweets['retweet_count'], bins=[0,1,3,6,28],\n",
    "                                    labels = ['A-Low','B-Average','C-High','D-Very High'],include_lowest = True)\n",
    "\n",
    "print(tweets['retweet_quantile'].value_counts())"
   ]
  },
  {
   "cell_type": "markdown",
   "metadata": {},
   "source": [
    "### Label Encode Feature"
   ]
  },
  {
   "cell_type": "code",
   "execution_count": 154,
   "metadata": {},
   "outputs": [
    {
     "data": {
      "text/plain": [
       "0    3524\n",
       "1     883\n",
       "2     342\n",
       "3     151\n",
       "Name: retweet_label, dtype: int64"
      ]
     },
     "execution_count": 154,
     "metadata": {},
     "output_type": "execute_result"
    }
   ],
   "source": [
    "#use label encoder to encode tweet labels\n",
    "retweet_label = LabelEncoder()\n",
    "\n",
    "tweets['retweet_label'] = retweet_label.fit_transform(tweets['retweet_quantile'])\n",
    "\n",
    "#show values counts\n",
    "tweets['retweet_label'].value_counts()"
   ]
  },
  {
   "cell_type": "markdown",
   "metadata": {},
   "source": [
    "## Quote Count Feature"
   ]
  },
  {
   "cell_type": "markdown",
   "metadata": {},
   "source": [
    "### Analyse Feature Distribution and Identify Outliers"
   ]
  },
  {
   "cell_type": "code",
   "execution_count": 155,
   "metadata": {
    "scrolled": false
   },
   "outputs": [
    {
     "data": {
      "text/plain": [
       "<Figure size 1152x360 with 0 Axes>"
      ]
     },
     "execution_count": 155,
     "metadata": {},
     "output_type": "execute_result"
    },
    {
     "data": {
      "text/plain": [
       "<AxesSubplot:xlabel='quote_count', ylabel='Density'>"
      ]
     },
     "execution_count": 155,
     "metadata": {},
     "output_type": "execute_result"
    },
    {
     "data": {
      "image/png": "[encoded data removed]",
      "text/plain": [
       "<Figure size 1152x360 with 1 Axes>"
      ]
     },
     "metadata": {
      "needs_background": "light"
     },
     "output_type": "display_data"
    }
   ],
   "source": [
    "plt.figure(figsize=(16,5))\n",
    "sns.distplot(tweets['quote_count'])"
   ]
  },
  {
   "cell_type": "code",
   "execution_count": 156,
   "metadata": {},
   "outputs": [
    {
     "name": "stdout",
     "output_type": "stream",
     "text": [
      "(-0.001, 21.0]    4871\n",
      "(21.0, 42.0]        19\n",
      "(42.0, 63.0]         6\n",
      "(63.0, 84.0]         2\n",
      "(105.0, 126.0]       1\n",
      "(84.0, 105.0]        1\n",
      "Name: quote_quantile, dtype: int64\n"
     ]
    }
   ],
   "source": [
    "#Identify outliers\n",
    "#Calculate quote quantiles to confirm outlier ranges\n",
    "\n",
    "#add column for retweet quantiles, \n",
    "tweets['quote_quantile'] = pd.cut(tweets['quote_count'], bins=np.linspace(0, 126, 7),\n",
    "                                     include_lowest = True)\n",
    "\n",
    "#show quantile ranges\n",
    "print(tweets['quote_quantile'].value_counts())"
   ]
  },
  {
   "cell_type": "code",
   "execution_count": 157,
   "metadata": {},
   "outputs": [
    {
     "name": "stdout",
     "output_type": "stream",
     "text": [
      "0.9710204081632653\n",
      "2\n"
     ]
    }
   ],
   "source": [
    "# value counts confirm 99.4% of observations are between 0 and 21, other ranges \n",
    "# will be treated as outliers and will be updated with the average figure\n",
    "\n",
    "# get average\n",
    "quote_mean = tweets['quote_count'].mean() # = 0.9710204081632653\n",
    "print(quote_mean)\n",
    "\n",
    "#round off\n",
    "quote_mean = m.ceil(retweet_mean) # = 2\n",
    "print(quote_mean)\n",
    "\n",
    "#use mask to update outliers, above 21\n",
    "\n",
    "tweets.loc[tweets['quote_count'] > 21, \"quote_count\"] = quote_mean"
   ]
  },
  {
   "cell_type": "markdown",
   "metadata": {},
   "source": [
    "### confirm removal of outliers"
   ]
  },
  {
   "cell_type": "code",
   "execution_count": 158,
   "metadata": {},
   "outputs": [
    {
     "name": "stdout",
     "output_type": "stream",
     "text": [
      "20\n"
     ]
    }
   ],
   "source": [
    "#check max value\n",
    "print(tweets['quote_count'].max())\n",
    "\n",
    "#max value 20 confirms outliers removed"
   ]
  },
  {
   "cell_type": "markdown",
   "metadata": {},
   "source": [
    "### recompute quantile to reflect removal of outliers"
   ]
  },
  {
   "cell_type": "code",
   "execution_count": 159,
   "metadata": {},
   "outputs": [
    {
     "name": "stdout",
     "output_type": "stream",
     "text": [
      "(-0.001, 5.0]    4758\n",
      "(5.0, 10.0]        97\n",
      "(10.0, 15.0]       35\n",
      "(15.0, 20.0]       10\n",
      "Name: quote_quantile, dtype: int64\n"
     ]
    }
   ],
   "source": [
    "#compute and replace quantile field, use 4 bins\n",
    "tweets['quote_quantile'] = pd.cut(tweets['quote_count'], bins=np.linspace(0, 20, 5),\n",
    "                                     include_lowest = True)\n",
    "\n",
    "print(tweets['quote_quantile'].value_counts())"
   ]
  },
  {
   "cell_type": "code",
   "execution_count": 160,
   "metadata": {},
   "outputs": [
    {
     "name": "stdout",
     "output_type": "stream",
     "text": [
      "A-Low          4214\n",
      "B-Average       309\n",
      "C-High          235\n",
      "D-Very High     142\n",
      "Name: quote_quantile, dtype: int64\n"
     ]
    }
   ],
   "source": [
    "#recompute quantile with custom bin edges\n",
    "# 0 - 1 Low\n",
    "# 1 - 2 Average\n",
    "# 2 - 5 High\n",
    "# 5 - 20 Very High\n",
    "\n",
    "tweets['quote_quantile'] = pd.cut(tweets['quote_count'], bins=[0,1,2,5,20],\n",
    "                                    labels = ['A-Low','B-Average','C-High','D-Very High'],include_lowest = True)\n",
    "\n",
    "print(tweets['quote_quantile'].value_counts())"
   ]
  },
  {
   "cell_type": "markdown",
   "metadata": {},
   "source": [
    "### Label Encode Feature"
   ]
  },
  {
   "cell_type": "code",
   "execution_count": 161,
   "metadata": {
    "scrolled": true
   },
   "outputs": [
    {
     "data": {
      "text/plain": [
       "0    4214\n",
       "1     309\n",
       "2     235\n",
       "3     142\n",
       "Name: quote_label, dtype: int64"
      ]
     },
     "execution_count": 161,
     "metadata": {},
     "output_type": "execute_result"
    }
   ],
   "source": [
    "#use label encoder to encode tweet labels\n",
    "quote_label = LabelEncoder()\n",
    "\n",
    "tweets['quote_label'] = quote_label.fit_transform(tweets['quote_quantile'])\n",
    "\n",
    "#show values counts\n",
    "tweets['quote_label'].value_counts()"
   ]
  },
  {
   "cell_type": "markdown",
   "metadata": {},
   "source": [
    "## Reply Count Feature"
   ]
  },
  {
   "cell_type": "markdown",
   "metadata": {},
   "source": [
    "### Analyse Feature Distribution and Identify Outliers"
   ]
  },
  {
   "cell_type": "code",
   "execution_count": 162,
   "metadata": {
    "scrolled": false
   },
   "outputs": [
    {
     "data": {
      "text/plain": [
       "<Figure size 1152x360 with 0 Axes>"
      ]
     },
     "execution_count": 162,
     "metadata": {},
     "output_type": "execute_result"
    },
    {
     "data": {
      "text/plain": [
       "<AxesSubplot:xlabel='reply_count', ylabel='Density'>"
      ]
     },
     "execution_count": 162,
     "metadata": {},
     "output_type": "execute_result"
    },
    {
     "data": {
      "image/png": "[encoded data removed]",
      "text/plain": [
       "<Figure size 1152x360 with 1 Axes>"
      ]
     },
     "metadata": {
      "needs_background": "light"
     },
     "output_type": "display_data"
    }
   ],
   "source": [
    "plt.figure(figsize=(16,5))\n",
    "sns.distplot(tweets['reply_count'])"
   ]
  },
  {
   "cell_type": "code",
   "execution_count": 163,
   "metadata": {},
   "outputs": [
    {
     "name": "stdout",
     "output_type": "stream",
     "text": [
      "(-0.001, 15.167]    4761\n",
      "(15.167, 30.333]     108\n",
      "(30.333, 45.5]        18\n",
      "(45.5, 60.667]         9\n",
      "(75.833, 91.0]         3\n",
      "(60.667, 75.833]       1\n",
      "Name: reply_quantile, dtype: int64\n"
     ]
    }
   ],
   "source": [
    "#Identify outliers\n",
    "#Calculate reply quantiles to confirm outlier ranges\n",
    "\n",
    "#add column for retweet quantiles, \n",
    "tweets['reply_quantile'] = pd.cut(tweets['reply_count'], bins=np.linspace(0, 91, 7),\n",
    "                                     include_lowest = True)\n",
    "\n",
    "#show quantile ranges\n",
    "print(tweets['reply_quantile'].value_counts())"
   ]
  },
  {
   "cell_type": "code",
   "execution_count": 164,
   "metadata": {},
   "outputs": [
    {
     "name": "stdout",
     "output_type": "stream",
     "text": [
      "2.3516326530612246\n",
      "3\n"
     ]
    }
   ],
   "source": [
    "# value counts confirm 99.3% of observations are between 0 and 31, other ranges \n",
    "# will be treated as outliers and will be updated with the average figure\n",
    "\n",
    "# get average\n",
    "reply_mean = tweets['reply_count'].mean() # = 2.3516326530612246\n",
    "print(reply_mean)\n",
    "\n",
    "#round off\n",
    "reply_mean = m.ceil(reply_mean) # = 3\n",
    "print(reply_mean)\n",
    "\n",
    "#use mask to update outliers, above 31\n",
    "tweets.loc[tweets['reply_count'] > 31, \"reply_count\"] = reply_mean"
   ]
  },
  {
   "cell_type": "markdown",
   "metadata": {},
   "source": [
    "### confirm removal of outliers"
   ]
  },
  {
   "cell_type": "code",
   "execution_count": 165,
   "metadata": {},
   "outputs": [
    {
     "name": "stdout",
     "output_type": "stream",
     "text": [
      "30\n"
     ]
    }
   ],
   "source": [
    "#check max value\n",
    "print(tweets['reply_count'].max())\n",
    "\n",
    "#max value 20 confirms outliers removed"
   ]
  },
  {
   "cell_type": "markdown",
   "metadata": {},
   "source": [
    "### recompute quantile to reflect removal of outliers"
   ]
  },
  {
   "cell_type": "code",
   "execution_count": 166,
   "metadata": {},
   "outputs": [
    {
     "name": "stdout",
     "output_type": "stream",
     "text": [
      "(-0.001, 7.5]    4547\n",
      "(7.5, 15.0]       245\n",
      "(15.0, 22.5]       79\n",
      "(22.5, 30.0]       29\n",
      "Name: reply_quantile, dtype: int64\n"
     ]
    }
   ],
   "source": [
    "#compute and replace quantile field, use 4 bins\n",
    "tweets['reply_quantile'] = pd.cut(tweets['reply_count'], bins=np.linspace(0, 30, 5),\n",
    "                                     include_lowest = True)\n",
    "\n",
    "print(tweets['reply_quantile'].value_counts())"
   ]
  },
  {
   "cell_type": "code",
   "execution_count": 167,
   "metadata": {},
   "outputs": [
    {
     "name": "stdout",
     "output_type": "stream",
     "text": [
      "A-Low          3263\n",
      "C-High          626\n",
      "D-Very High     540\n",
      "B-Average       471\n",
      "Name: reply_quantile, dtype: int64\n"
     ]
    }
   ],
   "source": [
    "#recompute quantile with custom bin edges\n",
    "# 0 - 1 Low\n",
    "# 1 - 2 Average\n",
    "# 2 - 5 High\n",
    "# 5 - 30 Very High\n",
    "\n",
    "tweets['reply_quantile'] = pd.cut(tweets['reply_count'], bins=[0,1,2,5,30],\n",
    "                                    labels = ['A-Low','B-Average','C-High','D-Very High'],include_lowest = True)\n",
    "\n",
    "print(tweets['reply_quantile'].value_counts())"
   ]
  },
  {
   "cell_type": "markdown",
   "metadata": {},
   "source": [
    "### Label Encode Feature"
   ]
  },
  {
   "cell_type": "code",
   "execution_count": 168,
   "metadata": {
    "scrolled": true
   },
   "outputs": [
    {
     "data": {
      "text/plain": [
       "0    3263\n",
       "2     626\n",
       "3     540\n",
       "1     471\n",
       "Name: reply_label, dtype: int64"
      ]
     },
     "execution_count": 168,
     "metadata": {},
     "output_type": "execute_result"
    }
   ],
   "source": [
    "#use label encoder to encode tweet labels\n",
    "reply_label = LabelEncoder()\n",
    "\n",
    "tweets['reply_label'] = quote_label.fit_transform(tweets['reply_quantile'])\n",
    "\n",
    "#show values counts\n",
    "tweets['reply_label'].value_counts()"
   ]
  },
  {
   "cell_type": "markdown",
   "metadata": {},
   "source": [
    "## Favorite Count Feature"
   ]
  },
  {
   "cell_type": "markdown",
   "metadata": {},
   "source": [
    "### Analyse Feature Distribution and Identify Outliers"
   ]
  },
  {
   "cell_type": "code",
   "execution_count": 169,
   "metadata": {
    "scrolled": false
   },
   "outputs": [
    {
     "data": {
      "text/plain": [
       "<Figure size 1152x360 with 0 Axes>"
      ]
     },
     "execution_count": 169,
     "metadata": {},
     "output_type": "execute_result"
    },
    {
     "data": {
      "text/plain": [
       "<AxesSubplot:xlabel='favorite_count', ylabel='Density'>"
      ]
     },
     "execution_count": 169,
     "metadata": {},
     "output_type": "execute_result"
    },
    {
     "data": {
      "image/png": "[encoded data removed]",
      "text/plain": [
       "<Figure size 1152x360 with 1 Axes>"
      ]
     },
     "metadata": {
      "needs_background": "light"
     },
     "output_type": "display_data"
    }
   ],
   "source": [
    "plt.figure(figsize=(16,5))\n",
    "sns.distplot(tweets['favorite_count'])"
   ]
  },
  {
   "cell_type": "code",
   "execution_count": 170,
   "metadata": {},
   "outputs": [
    {
     "name": "stdout",
     "output_type": "stream",
     "text": [
      "(-0.001, 99.333]      4876\n",
      "(99.333, 198.667]       16\n",
      "(198.667, 298.0]         5\n",
      "(496.667, 596.0]         2\n",
      "(298.0, 397.333]         1\n",
      "(397.333, 496.667]       0\n",
      "Name: favorite_quantile, dtype: int64\n"
     ]
    }
   ],
   "source": [
    "#Identify outliers\n",
    "#Calculate reply quantiles to confirm outlier ranges\n",
    "\n",
    "#add column for retweet quantiles, \n",
    "tweets['favorite_quantile'] = pd.cut(tweets['favorite_count'], bins=np.linspace(0, 596, 7),\n",
    "                                     include_lowest = True)\n",
    "\n",
    "#show quantile ranges\n",
    "print(tweets['favorite_quantile'].value_counts())"
   ]
  },
  {
   "cell_type": "code",
   "execution_count": 171,
   "metadata": {},
   "outputs": [
    {
     "name": "stdout",
     "output_type": "stream",
     "text": [
      "8.228367346938775\n",
      "9\n"
     ]
    }
   ],
   "source": [
    "# value counts confirm 99.5% of observations are between 0 and 100, other ranges \n",
    "# will be treated as outliers and will be updated with the average figure\n",
    "\n",
    "# get average\n",
    "favorite_mean = tweets['favorite_count'].mean() # = 8.228367346938775\n",
    "print(favorite_mean)\n",
    "\n",
    "#round off\n",
    "favorite_mean = m.ceil(favorite_mean) # = 9\n",
    "print(favorite_mean)\n",
    "\n",
    "#use mask to update outliers, above 100\n",
    "tweets.loc[tweets['favorite_count'] > 100, \"favorite_count\"] = favorite_mean"
   ]
  },
  {
   "cell_type": "markdown",
   "metadata": {},
   "source": [
    "### confirm removal of outliers"
   ]
  },
  {
   "cell_type": "code",
   "execution_count": 172,
   "metadata": {},
   "outputs": [
    {
     "name": "stdout",
     "output_type": "stream",
     "text": [
      "100\n"
     ]
    }
   ],
   "source": [
    "#check max value\n",
    "print(tweets['favorite_count'].max())\n",
    "\n",
    "#max value 100 confirms outliers removed"
   ]
  },
  {
   "cell_type": "markdown",
   "metadata": {},
   "source": [
    "### recompute quantile to reflect removal of outliers"
   ]
  },
  {
   "cell_type": "code",
   "execution_count": 173,
   "metadata": {},
   "outputs": [
    {
     "name": "stdout",
     "output_type": "stream",
     "text": [
      "(-0.001, 25.0]    4647\n",
      "(25.0, 50.0]       208\n",
      "(50.0, 75.0]        35\n",
      "(75.0, 100.0]       10\n",
      "Name: favorite_quantile, dtype: int64\n"
     ]
    }
   ],
   "source": [
    "#compute and replace quantile field, use 4 bins\n",
    "tweets['favorite_quantile'] = pd.cut(tweets['favorite_count'], bins=np.linspace(0, 100, 5),\n",
    "                                     include_lowest = True)\n",
    "\n",
    "print(tweets['favorite_quantile'].value_counts())"
   ]
  },
  {
   "cell_type": "code",
   "execution_count": 174,
   "metadata": {},
   "outputs": [
    {
     "name": "stdout",
     "output_type": "stream",
     "text": [
      "A-Low          2924\n",
      "C-High         1037\n",
      "B-Average       686\n",
      "D-Very High     253\n",
      "Name: favorite_quantile, dtype: int64\n"
     ]
    }
   ],
   "source": [
    "#recompute quantile with custom bin edges\n",
    "# 0 - 5 Low\n",
    "# 5 - 8 Average\n",
    "# 8 - 25 High\n",
    "# 25 - 100 Very High\n",
    "\n",
    "tweets['favorite_quantile'] = pd.cut(tweets['favorite_count'], bins=[0,5,8,25,100],\n",
    "                                    labels = ['A-Low','B-Average','C-High','D-Very High'],include_lowest = True)\n",
    "\n",
    "print(tweets['favorite_quantile'].value_counts())"
   ]
  },
  {
   "cell_type": "markdown",
   "metadata": {},
   "source": [
    "### Label Encode Feature"
   ]
  },
  {
   "cell_type": "code",
   "execution_count": 175,
   "metadata": {},
   "outputs": [
    {
     "data": {
      "text/plain": [
       "0    2924\n",
       "2    1037\n",
       "1     686\n",
       "3     253\n",
       "Name: favorite_label, dtype: int64"
      ]
     },
     "execution_count": 175,
     "metadata": {},
     "output_type": "execute_result"
    }
   ],
   "source": [
    "#use label encoder to encode tweet labels\n",
    "favorite_label = LabelEncoder()\n",
    "\n",
    "tweets['favorite_label'] = quote_label.fit_transform(tweets['favorite_quantile'])\n",
    "\n",
    "#show values counts\n",
    "tweets['favorite_label'].value_counts()"
   ]
  },
  {
   "cell_type": "code",
   "execution_count": 176,
   "metadata": {
    "scrolled": true
   },
   "outputs": [
    {
     "data": {
      "text/html": [
       "<div>\n",
       "<style scoped>\n",
       "    .dataframe tbody tr th:only-of-type {\n",
       "        vertical-align: middle;\n",
       "    }\n",
       "\n",
       "    .dataframe tbody tr th {\n",
       "        vertical-align: top;\n",
       "    }\n",
       "\n",
       "    .dataframe thead th {\n",
       "        text-align: right;\n",
       "    }\n",
       "</style>\n",
       "<table border=\"1\" class=\"dataframe\">\n",
       "  <thead>\n",
       "    <tr style=\"text-align: right;\">\n",
       "      <th></th>\n",
       "      <th>tweet_id</th>\n",
       "      <th>created_at</th>\n",
       "      <th>text</th>\n",
       "      <th>retweet_count</th>\n",
       "      <th>quote_count</th>\n",
       "      <th>reply_count</th>\n",
       "      <th>favorite_count</th>\n",
       "      <th>retweet_quantile</th>\n",
       "      <th>retweet_label</th>\n",
       "      <th>quote_quantile</th>\n",
       "      <th>quote_label</th>\n",
       "      <th>reply_quantile</th>\n",
       "      <th>reply_label</th>\n",
       "      <th>favorite_quantile</th>\n",
       "      <th>favorite_label</th>\n",
       "    </tr>\n",
       "  </thead>\n",
       "  <tbody>\n",
       "    <tr>\n",
       "      <th>0</th>\n",
       "      <td>1421713684791955460</td>\n",
       "      <td>Sun Aug 01 06:05:31 +0000 2021</td>\n",
       "      <td>https://t.co/DB8QOR5vBd\\nECZ says Investigatio...</td>\n",
       "      <td>1</td>\n",
       "      <td>2</td>\n",
       "      <td>1</td>\n",
       "      <td>14</td>\n",
       "      <td>A-Low</td>\n",
       "      <td>0</td>\n",
       "      <td>B-Average</td>\n",
       "      <td>1</td>\n",
       "      <td>A-Low</td>\n",
       "      <td>0</td>\n",
       "      <td>C-High</td>\n",
       "      <td>2</td>\n",
       "    </tr>\n",
       "    <tr>\n",
       "      <th>1</th>\n",
       "      <td>1421711016732266504</td>\n",
       "      <td>Sun Aug 01 05:54:55 +0000 2021</td>\n",
       "      <td>https://t.co/nrJuxItvkr\\nChief Simamba castiga...</td>\n",
       "      <td>2</td>\n",
       "      <td>1</td>\n",
       "      <td>4</td>\n",
       "      <td>7</td>\n",
       "      <td>B-Average</td>\n",
       "      <td>1</td>\n",
       "      <td>A-Low</td>\n",
       "      <td>0</td>\n",
       "      <td>C-High</td>\n",
       "      <td>2</td>\n",
       "      <td>B-Average</td>\n",
       "      <td>1</td>\n",
       "    </tr>\n",
       "    <tr>\n",
       "      <th>2</th>\n",
       "      <td>1421707047737991169</td>\n",
       "      <td>Sun Aug 01 05:39:08 +0000 2021</td>\n",
       "      <td>https://t.co/CJxF04D6jU\\nI Survived the Corona...</td>\n",
       "      <td>1</td>\n",
       "      <td>0</td>\n",
       "      <td>0</td>\n",
       "      <td>4</td>\n",
       "      <td>A-Low</td>\n",
       "      <td>0</td>\n",
       "      <td>A-Low</td>\n",
       "      <td>0</td>\n",
       "      <td>A-Low</td>\n",
       "      <td>0</td>\n",
       "      <td>A-Low</td>\n",
       "      <td>0</td>\n",
       "    </tr>\n",
       "    <tr>\n",
       "      <th>3</th>\n",
       "      <td>1421704125067235329</td>\n",
       "      <td>Sun Aug 01 05:27:32 +0000 2021</td>\n",
       "      <td>https://t.co/EwsIfq7fUR\\nZambia commits to sup...</td>\n",
       "      <td>0</td>\n",
       "      <td>0</td>\n",
       "      <td>2</td>\n",
       "      <td>6</td>\n",
       "      <td>A-Low</td>\n",
       "      <td>0</td>\n",
       "      <td>A-Low</td>\n",
       "      <td>0</td>\n",
       "      <td>B-Average</td>\n",
       "      <td>1</td>\n",
       "      <td>B-Average</td>\n",
       "      <td>1</td>\n",
       "    </tr>\n",
       "    <tr>\n",
       "      <th>4</th>\n",
       "      <td>1421702425434537984</td>\n",
       "      <td>Sun Aug 01 05:20:46 +0000 2021</td>\n",
       "      <td>https://t.co/r6XV81L8OG\\nThe Verification Proc...</td>\n",
       "      <td>1</td>\n",
       "      <td>0</td>\n",
       "      <td>0</td>\n",
       "      <td>8</td>\n",
       "      <td>A-Low</td>\n",
       "      <td>0</td>\n",
       "      <td>A-Low</td>\n",
       "      <td>0</td>\n",
       "      <td>A-Low</td>\n",
       "      <td>0</td>\n",
       "      <td>B-Average</td>\n",
       "      <td>1</td>\n",
       "    </tr>\n",
       "  </tbody>\n",
       "</table>\n",
       "</div>"
      ],
      "text/plain": [
       "              tweet_id                      created_at  \\\n",
       "0  1421713684791955460  Sun Aug 01 06:05:31 +0000 2021   \n",
       "1  1421711016732266504  Sun Aug 01 05:54:55 +0000 2021   \n",
       "2  1421707047737991169  Sun Aug 01 05:39:08 +0000 2021   \n",
       "3  1421704125067235329  Sun Aug 01 05:27:32 +0000 2021   \n",
       "4  1421702425434537984  Sun Aug 01 05:20:46 +0000 2021   \n",
       "\n",
       "                                                text  retweet_count  \\\n",
       "0  https://t.co/DB8QOR5vBd\\nECZ says Investigatio...              1   \n",
       "1  https://t.co/nrJuxItvkr\\nChief Simamba castiga...              2   \n",
       "2  https://t.co/CJxF04D6jU\\nI Survived the Corona...              1   \n",
       "3  https://t.co/EwsIfq7fUR\\nZambia commits to sup...              0   \n",
       "4  https://t.co/r6XV81L8OG\\nThe Verification Proc...              1   \n",
       "\n",
       "   quote_count  reply_count  favorite_count retweet_quantile  retweet_label  \\\n",
       "0            2            1              14            A-Low              0   \n",
       "1            1            4               7        B-Average              1   \n",
       "2            0            0               4            A-Low              0   \n",
       "3            0            2               6            A-Low              0   \n",
       "4            0            0               8            A-Low              0   \n",
       "\n",
       "  quote_quantile  quote_label reply_quantile  reply_label favorite_quantile  \\\n",
       "0      B-Average            1          A-Low            0            C-High   \n",
       "1          A-Low            0         C-High            2         B-Average   \n",
       "2          A-Low            0          A-Low            0             A-Low   \n",
       "3          A-Low            0      B-Average            1         B-Average   \n",
       "4          A-Low            0          A-Low            0         B-Average   \n",
       "\n",
       "   favorite_label  \n",
       "0               2  \n",
       "1               1  \n",
       "2               0  \n",
       "3               1  \n",
       "4               1  "
      ]
     },
     "execution_count": 176,
     "metadata": {},
     "output_type": "execute_result"
    }
   ],
   "source": [
    "tweets.head()"
   ]
  },
  {
   "cell_type": "markdown",
   "metadata": {},
   "source": [
    "## Prepare encoded labels for Combined Feature Ranking"
   ]
  },
  {
   "cell_type": "code",
   "execution_count": 181,
   "metadata": {},
   "outputs": [],
   "source": [
    "#since labels are zero based (0,1,2,3),add 1 to each label to transform range to (1,2,3,4) to allow for easy calculation\n",
    "# of rankings\n",
    "tweets['retweet_label'] = tweets['retweet_label'] + 1\n",
    "\n",
    "tweets['quote_label'] = tweets['quote_label'] + 1\n",
    "\n",
    "tweets['reply_label'] = tweets['reply_label'] + 1\n",
    "\n",
    "tweets['favorite_label'] = tweets['favorite_label'] + 1"
   ]
  },
  {
   "cell_type": "markdown",
   "metadata": {},
   "source": [
    "### Value Counts showing features transformed from 0-1 to 1-4"
   ]
  },
  {
   "cell_type": "code",
   "execution_count": 182,
   "metadata": {},
   "outputs": [
    {
     "data": {
      "text/plain": [
       "1    3524\n",
       "2     883\n",
       "3     342\n",
       "4     151\n",
       "Name: retweet_label, dtype: int64"
      ]
     },
     "execution_count": 182,
     "metadata": {},
     "output_type": "execute_result"
    }
   ],
   "source": [
    "tweets['retweet_label'].value_counts()"
   ]
  },
  {
   "cell_type": "code",
   "execution_count": 183,
   "metadata": {},
   "outputs": [
    {
     "data": {
      "text/plain": [
       "1    4214\n",
       "2     309\n",
       "3     235\n",
       "4     142\n",
       "Name: quote_label, dtype: int64"
      ]
     },
     "execution_count": 183,
     "metadata": {},
     "output_type": "execute_result"
    }
   ],
   "source": [
    "tweets['quote_label'].value_counts()"
   ]
  },
  {
   "cell_type": "code",
   "execution_count": 184,
   "metadata": {},
   "outputs": [
    {
     "data": {
      "text/plain": [
       "1    3263\n",
       "3     626\n",
       "4     540\n",
       "2     471\n",
       "Name: reply_label, dtype: int64"
      ]
     },
     "execution_count": 184,
     "metadata": {},
     "output_type": "execute_result"
    }
   ],
   "source": [
    "tweets['reply_label'].value_counts()"
   ]
  },
  {
   "cell_type": "code",
   "execution_count": 185,
   "metadata": {
    "scrolled": true
   },
   "outputs": [
    {
     "data": {
      "text/plain": [
       "1    2924\n",
       "3    1037\n",
       "2     686\n",
       "4     253\n",
       "Name: favorite_label, dtype: int64"
      ]
     },
     "execution_count": 185,
     "metadata": {},
     "output_type": "execute_result"
    }
   ],
   "source": [
    "tweets['favorite_label'].value_counts()"
   ]
  },
  {
   "cell_type": "markdown",
   "metadata": {},
   "source": [
    "## Combine labels for Tweet ranking feature"
   ]
  },
  {
   "cell_type": "code",
   "execution_count": 209,
   "metadata": {},
   "outputs": [],
   "source": [
    "## add all features and calculate average\n",
    "\n",
    "tweets['importance'] = round(((tweets['retweet_label'] + tweets['quote_label'] + tweets['reply_label'] + tweets['favorite_label'])/4),0)"
   ]
  },
  {
   "cell_type": "code",
   "execution_count": 210,
   "metadata": {
    "scrolled": true
   },
   "outputs": [
    {
     "data": {
      "text/plain": [
       "1.0    2856\n",
       "2.0    1593\n",
       "3.0     317\n",
       "4.0     134\n",
       "Name: importance, dtype: int64"
      ]
     },
     "execution_count": 210,
     "metadata": {},
     "output_type": "execute_result"
    }
   ],
   "source": [
    "tweets['importance'].value_counts()"
   ]
  },
  {
   "cell_type": "code",
   "execution_count": 238,
   "metadata": {},
   "outputs": [],
   "source": [
    "## add all features and calculate average_rounded\n",
    "\n",
    "tweets['importance_weighted'] = round((((tweets['retweet_label']*2) + (tweets['quote_label']*2) + (tweets['reply_label']*4) + (tweets['favorite_label']*6))/14))"
   ]
  },
  {
   "cell_type": "code",
   "execution_count": 240,
   "metadata": {
    "scrolled": false
   },
   "outputs": [
    {
     "data": {
      "text/plain": [
       "1.0    2947\n",
       "2.0    1204\n",
       "3.0     621\n",
       "4.0     128\n",
       "Name: importance_weighted, dtype: int64"
      ]
     },
     "execution_count": 240,
     "metadata": {},
     "output_type": "execute_result"
    }
   ],
   "source": [
    "tweets['importance_weighted'].value_counts()"
   ]
  },
  {
   "cell_type": "code",
   "execution_count": 243,
   "metadata": {},
   "outputs": [],
   "source": [
    "## add all features and calculate average_\n",
    "\n",
    "tweets['importance_weighted_avg'] = (((tweets['retweet_label']*2) + (tweets['quote_label']*2) + \n",
    "                                      (tweets['reply_label']*4) + (tweets['favorite_label']*6))/14)\n",
    "\n",
    "tweets['importance_weighted_avg'] = tweets['importance_weighted_avg'].apply(lambda x: m.ceil(x))"
   ]
  },
  {
   "cell_type": "code",
   "execution_count": 244,
   "metadata": {
    "scrolled": true
   },
   "outputs": [
    {
     "data": {
      "text/plain": [
       "1    2177\n",
       "2    1591\n",
       "3     804\n",
       "4     328\n",
       "Name: importance_weighted_avg, dtype: int64"
      ]
     },
     "execution_count": 244,
     "metadata": {},
     "output_type": "execute_result"
    }
   ],
   "source": [
    "tweets['importance_weighted_avg'].value_counts()"
   ]
  },
  {
   "cell_type": "markdown",
   "metadata": {},
   "source": [
    "## Drop columns not required by estimators"
   ]
  },
  {
   "cell_type": "code",
   "execution_count": 231,
   "metadata": {},
   "outputs": [],
   "source": [
    "tweets = tweets.drop(columns=['created_at','text','retweet_quantile','quote_quantile','reply_quantile', 'favorite_quantile','importance_ceil','importance','tweet_id' ])"
   ]
  },
  {
   "cell_type": "code",
   "execution_count": 247,
   "metadata": {},
   "outputs": [],
   "source": [
    "tweets = tweets.drop(columns=['importance_weighted'])"
   ]
  },
  {
   "cell_type": "code",
   "execution_count": 250,
   "metadata": {
    "scrolled": true
   },
   "outputs": [
    {
     "data": {
      "text/plain": [
       "<AxesSubplot:xlabel='importance_weighted_avg', ylabel='count'>"
      ]
     },
     "execution_count": 250,
     "metadata": {},
     "output_type": "execute_result"
    },
    {
     "data": {
      "image/png": "[encoded data removed]",
      "text/plain": [
       "<Figure size 432x288 with 1 Axes>"
      ]
     },
     "metadata": {
      "needs_background": "light"
     },
     "output_type": "display_data"
    }
   ],
   "source": [
    "sns.countplot(tweets['importance_weighted_avg'])"
   ]
  },
  {
   "cell_type": "code",
   "execution_count": 248,
   "metadata": {},
   "outputs": [
    {
     "data": {
      "text/html": [
       "<div>\n",
       "<style scoped>\n",
       "    .dataframe tbody tr th:only-of-type {\n",
       "        vertical-align: middle;\n",
       "    }\n",
       "\n",
       "    .dataframe tbody tr th {\n",
       "        vertical-align: top;\n",
       "    }\n",
       "\n",
       "    .dataframe thead th {\n",
       "        text-align: right;\n",
       "    }\n",
       "</style>\n",
       "<table border=\"1\" class=\"dataframe\">\n",
       "  <thead>\n",
       "    <tr style=\"text-align: right;\">\n",
       "      <th></th>\n",
       "      <th>retweet_count</th>\n",
       "      <th>quote_count</th>\n",
       "      <th>reply_count</th>\n",
       "      <th>favorite_count</th>\n",
       "      <th>retweet_label</th>\n",
       "      <th>quote_label</th>\n",
       "      <th>reply_label</th>\n",
       "      <th>favorite_label</th>\n",
       "      <th>importance_weighted_avg</th>\n",
       "    </tr>\n",
       "  </thead>\n",
       "  <tbody>\n",
       "    <tr>\n",
       "      <th>0</th>\n",
       "      <td>1</td>\n",
       "      <td>2</td>\n",
       "      <td>1</td>\n",
       "      <td>14</td>\n",
       "      <td>1</td>\n",
       "      <td>2</td>\n",
       "      <td>1</td>\n",
       "      <td>3</td>\n",
       "      <td>2</td>\n",
       "    </tr>\n",
       "    <tr>\n",
       "      <th>1</th>\n",
       "      <td>2</td>\n",
       "      <td>1</td>\n",
       "      <td>4</td>\n",
       "      <td>7</td>\n",
       "      <td>2</td>\n",
       "      <td>1</td>\n",
       "      <td>3</td>\n",
       "      <td>2</td>\n",
       "      <td>3</td>\n",
       "    </tr>\n",
       "    <tr>\n",
       "      <th>2</th>\n",
       "      <td>1</td>\n",
       "      <td>0</td>\n",
       "      <td>0</td>\n",
       "      <td>4</td>\n",
       "      <td>1</td>\n",
       "      <td>1</td>\n",
       "      <td>1</td>\n",
       "      <td>1</td>\n",
       "      <td>1</td>\n",
       "    </tr>\n",
       "    <tr>\n",
       "      <th>3</th>\n",
       "      <td>0</td>\n",
       "      <td>0</td>\n",
       "      <td>2</td>\n",
       "      <td>6</td>\n",
       "      <td>1</td>\n",
       "      <td>1</td>\n",
       "      <td>2</td>\n",
       "      <td>2</td>\n",
       "      <td>2</td>\n",
       "    </tr>\n",
       "    <tr>\n",
       "      <th>4</th>\n",
       "      <td>1</td>\n",
       "      <td>0</td>\n",
       "      <td>0</td>\n",
       "      <td>8</td>\n",
       "      <td>1</td>\n",
       "      <td>1</td>\n",
       "      <td>1</td>\n",
       "      <td>2</td>\n",
       "      <td>2</td>\n",
       "    </tr>\n",
       "  </tbody>\n",
       "</table>\n",
       "</div>"
      ],
      "text/plain": [
       "   retweet_count  quote_count  reply_count  favorite_count  retweet_label  \\\n",
       "0              1            2            1              14              1   \n",
       "1              2            1            4               7              2   \n",
       "2              1            0            0               4              1   \n",
       "3              0            0            2               6              1   \n",
       "4              1            0            0               8              1   \n",
       "\n",
       "   quote_label  reply_label  favorite_label  importance_weighted_avg  \n",
       "0            2            1               3                        2  \n",
       "1            1            3               2                        3  \n",
       "2            1            1               1                        1  \n",
       "3            1            2               2                        2  \n",
       "4            1            1               2                        2  "
      ]
     },
     "execution_count": 248,
     "metadata": {},
     "output_type": "execute_result"
    }
   ],
   "source": [
    "tweets.head()"
   ]
  },
  {
   "cell_type": "markdown",
   "metadata": {},
   "source": [
    "## Seperate the dataset as Input Features and Target Feature"
   ]
  },
  {
   "cell_type": "code",
   "execution_count": 249,
   "metadata": {},
   "outputs": [],
   "source": [
    "# Input = X, Target = y\n",
    "\n",
    "X = tweets.drop(columns=['importance_weighted_avg'])\n",
    "y = tweets['importance_weighted_avg']"
   ]
  },
  {
   "cell_type": "markdown",
   "metadata": {},
   "source": [
    "## Split data - Training and Testing"
   ]
  },
  {
   "cell_type": "code",
   "execution_count": 251,
   "metadata": {},
   "outputs": [],
   "source": [
    "X_train, X_test, y_train, y_test = train_test_split(X, y, test_size = 0.2, random_state = 42)"
   ]
  },
  {
   "cell_type": "markdown",
   "metadata": {},
   "source": [
    "## Linear Support Vector Classification"
   ]
  },
  {
   "cell_type": "code",
   "execution_count": 252,
   "metadata": {},
   "outputs": [
    {
     "data": {
      "text/plain": [
       "LinearSVC()"
      ]
     },
     "execution_count": 252,
     "metadata": {},
     "output_type": "execute_result"
    }
   ],
   "source": [
    "# Performing CV to tune parameters for best SVM fit\n",
    "sv = LinearSVC()\n",
    "sv.fit(X_train, y_train)"
   ]
  },
  {
   "cell_type": "code",
   "execution_count": 253,
   "metadata": {},
   "outputs": [],
   "source": [
    "sv_pred = sv.predict(X_test)"
   ]
  },
  {
   "cell_type": "code",
   "execution_count": 260,
   "metadata": {},
   "outputs": [],
   "source": [
    "target_names = ['Low','Average','High','Very High']"
   ]
  },
  {
   "cell_type": "code",
   "execution_count": 261,
   "metadata": {},
   "outputs": [
    {
     "name": "stdout",
     "output_type": "stream",
     "text": [
      "              precision    recall  f1-score   support\n",
      "\n",
      "         Low       1.00      1.00      1.00       434\n",
      "     Average       0.95      0.98      0.97       325\n",
      "        High       0.87      0.85      0.86       158\n",
      "   Very High       0.85      0.79      0.82        63\n",
      "\n",
      "    accuracy                           0.96       980\n",
      "   macro avg       0.92      0.91      0.91       980\n",
      "weighted avg       0.95      0.96      0.95       980\n",
      "\n"
     ]
    }
   ],
   "source": [
    "print(classification_report(y_test, sv_pred, target_names= target_names))"
   ]
  },
  {
   "cell_type": "code",
   "execution_count": 265,
   "metadata": {},
   "outputs": [
    {
     "data": {
      "text/plain": [
       "<AxesSubplot:>"
      ]
     },
     "execution_count": 265,
     "metadata": {},
     "output_type": "execute_result"
    },
    {
     "data": {
      "text/plain": [
       "Text(33.0, 0.5, 'Actual')"
      ]
     },
     "execution_count": 265,
     "metadata": {},
     "output_type": "execute_result"
    },
    {
     "data": {
      "text/plain": [
       "Text(0.5, 15.0, 'Predicted')"
      ]
     },
     "execution_count": 265,
     "metadata": {},
     "output_type": "execute_result"
    },
    {
     "data": {
      "image/png": "[encoded data removed]",
      "text/plain": [
       "<Figure size 432x288 with 2 Axes>"
      ]
     },
     "metadata": {
      "needs_background": "light"
     },
     "output_type": "display_data"
    }
   ],
   "source": [
    "conf_mat = confusion_matrix(y_test, sv_pred)\n",
    "sns.heatmap(conf_mat, annot=True, fmt='d',\n",
    "            xticklabels=target_names, yticklabels=target_names, cmap='Blues')\n",
    "plt.ylabel('Actual')\n",
    "plt.xlabel('Predicted')"
   ]
  },
  {
   "cell_type": "markdown",
   "metadata": {},
   "source": [
    "## KNearest Neighbors Classifier"
   ]
  },
  {
   "cell_type": "code",
   "execution_count": 267,
   "metadata": {},
   "outputs": [
    {
     "data": {
      "text/plain": [
       "KNeighborsClassifier(n_neighbors=3)"
      ]
     },
     "execution_count": 267,
     "metadata": {},
     "output_type": "execute_result"
    }
   ],
   "source": [
    "# KNeigbor classifier\n",
    "from sklearn.neighbors import KNeighborsClassifier\n",
    "neigh = KNeighborsClassifier(n_neighbors=3)\n",
    "neigh.fit(X_train, y_train)"
   ]
  },
  {
   "cell_type": "code",
   "execution_count": 268,
   "metadata": {},
   "outputs": [],
   "source": [
    "n_pred = neigh.predict(X_test)"
   ]
  },
  {
   "cell_type": "code",
   "execution_count": 269,
   "metadata": {},
   "outputs": [],
   "source": [
    "target_names = ['Low','Average','High','Very High']"
   ]
  },
  {
   "cell_type": "code",
   "execution_count": 270,
   "metadata": {},
   "outputs": [
    {
     "name": "stdout",
     "output_type": "stream",
     "text": [
      "              precision    recall  f1-score   support\n",
      "\n",
      "         Low       1.00      1.00      1.00       434\n",
      "     Average       0.99      1.00      1.00       325\n",
      "        High       0.94      0.93      0.93       158\n",
      "   Very High       0.86      0.86      0.86        63\n",
      "\n",
      "    accuracy                           0.98       980\n",
      "   macro avg       0.95      0.95      0.95       980\n",
      "weighted avg       0.98      0.98      0.98       980\n",
      "\n"
     ]
    }
   ],
   "source": [
    "print(classification_report(y_test, n_pred, target_names= target_names))"
   ]
  },
  {
   "cell_type": "code",
   "execution_count": 271,
   "metadata": {},
   "outputs": [
    {
     "data": {
      "text/plain": [
       "<AxesSubplot:>"
      ]
     },
     "execution_count": 271,
     "metadata": {},
     "output_type": "execute_result"
    },
    {
     "data": {
      "text/plain": [
       "Text(33.0, 0.5, 'Actual')"
      ]
     },
     "execution_count": 271,
     "metadata": {},
     "output_type": "execute_result"
    },
    {
     "data": {
      "text/plain": [
       "Text(0.5, 15.0, 'Predicted')"
      ]
     },
     "execution_count": 271,
     "metadata": {},
     "output_type": "execute_result"
    },
    {
     "data": {
      "image/png": "[encoded data removed]",
      "text/plain": [
       "<Figure size 432x288 with 2 Axes>"
      ]
     },
     "metadata": {
      "needs_background": "light"
     },
     "output_type": "display_data"
    }
   ],
   "source": [
    "conf_mat_neigh = confusion_matrix(y_test, n_pred)\n",
    "sns.heatmap(conf_mat_neigh, annot=True, fmt='d',\n",
    "            xticklabels=target_names, yticklabels=target_names, cmap='Blues')\n",
    "plt.ylabel('Actual')\n",
    "plt.xlabel('Predicted')"
   ]
  }
 ],
 "metadata": {
  "kernelspec": {
   "display_name": "Python 3",
   "language": "python",
   "name": "python3"
  },
  "language_info": {
   "codemirror_mode": {
    "name": "ipython",
    "version": 3
   },
   "file_extension": ".py",
   "mimetype": "text/x-python",
   "name": "python",
   "nbconvert_exporter": "python",
   "pygments_lexer": "ipython3",
   "version": "3.8.5"
  }
 },
 "nbformat": 4,
 "nbformat_minor": 4
}
