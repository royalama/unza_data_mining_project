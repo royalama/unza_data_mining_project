{
 "cells": [
  {
   "cell_type": "markdown",
   "metadata": {},
   "source": [
    "# Data Collection of Tweets"
   ]
  },
  {
   "cell_type": "code",
   "execution_count": 82,
   "metadata": {},
   "outputs": [],
   "source": [
    "import requests\n",
    "from requests.structures import CaseInsensitiveDict\n",
    "import pandas as pd\n",
    "import requests, json \n",
    "from bs4 import BeautifulSoup as soup\n",
    "\n",
    "#make initial request\n",
    "url = \"https://api.twitter.com/1.1/tweets/search/fullarchive/devops.json?query=from:lusakatimes&maxResults=100&fromDate=202001010800&toDate=202008010800\"\n",
    "\n",
    "headers = CaseInsensitiveDict()\n",
    "headers[\"Authorization\"] = \"Bearer AAAAAAAAAAAAAAAAAAAAAIZvSgEAAAAATqtge49x0v1t%2BmNPDYgY78kBC64%3DKJ8pcny7IqvzzpmMfbqIXVg8QjQV8FBU8ZPSJD68CAeTk36qeY\"\n",
    "\n",
    "r = requests.get(url, headers=headers)\n",
    "\n",
    "r_json = r.json()\n",
    "#if(r.status_code == 200):\n",
    "#prepare container object"
   ]
  },
  {
   "cell_type": "code",
   "execution_count": 72,
   "metadata": {},
   "outputs": [],
   "source": [
    "container = {\n",
    "  \"tweet_id\": [],\n",
    "  \"created_at\": [],\n",
    "  \"text\": [],\n",
    "  \"retweet_count\": [],\n",
    "  \"quote_count\": [],\n",
    "  \"reply_count\": [],\n",
    "  \"favorite_count\": []   \n",
    "}\n"
   ]
  },
  {
   "cell_type": "code",
   "execution_count": 83,
   "metadata": {},
   "outputs": [],
   "source": [
    "for i in range(len(r_json[\"results\"])):\n",
    "    tweet = r_json[\"results\"][i]\n",
    "    container[\"tweet_id\"].append(tweet[\"id_str\"])\n",
    "    container[\"created_at\"].append(tweet[\"created_at\"])\n",
    "    container[\"text\"].append(tweet[\"text\"])\n",
    "    container[\"retweet_count\"].append(tweet[\"retweet_count\"])\n",
    "    container[\"reply_count\"].append(tweet[\"reply_count\"])\n",
    "    container[\"favorite_count\"].append(tweet[\"favorite_count\"])\n",
    "    container[\"quote_count\"].append(tweet[\"quote_count\"])"
   ]
  },
  {
   "cell_type": "code",
   "execution_count": 74,
   "metadata": {},
   "outputs": [],
   "source": [
    "def get_token_status():\n",
    "    if \"next\" in r_json:\n",
    "        return True\n",
    "    else:\n",
    "        return False"
   ]
  },
  {
   "cell_type": "markdown",
   "metadata": {},
   "source": [
    "## Harvest all tweets using iterator function"
   ]
  },
  {
   "cell_type": "code",
   "execution_count": 84,
   "metadata": {},
   "outputs": [
    {
     "ename": "KeyError",
     "evalue": "'results'",
     "output_type": "error",
     "traceback": [
      "\u001b[1;31m---------------------------------------------------------------------------\u001b[0m",
      "\u001b[1;31mKeyError\u001b[0m                                  Traceback (most recent call last)",
      "\u001b[1;32m<ipython-input-84-22dddd0813fa>\u001b[0m in \u001b[0;36m<module>\u001b[1;34m\u001b[0m\n\u001b[0;32m      8\u001b[0m     \u001b[0mr_json\u001b[0m \u001b[1;33m=\u001b[0m \u001b[0mr1\u001b[0m\u001b[1;33m.\u001b[0m\u001b[0mjson\u001b[0m\u001b[1;33m(\u001b[0m\u001b[1;33m)\u001b[0m\u001b[1;33m\u001b[0m\u001b[1;33m\u001b[0m\u001b[0m\n\u001b[0;32m      9\u001b[0m     \u001b[1;31m#add to container\u001b[0m\u001b[1;33m\u001b[0m\u001b[1;33m\u001b[0m\u001b[1;33m\u001b[0m\u001b[0m\n\u001b[1;32m---> 10\u001b[1;33m     \u001b[1;32mfor\u001b[0m \u001b[0mi\u001b[0m \u001b[1;32min\u001b[0m \u001b[0mrange\u001b[0m\u001b[1;33m(\u001b[0m\u001b[0mlen\u001b[0m\u001b[1;33m(\u001b[0m\u001b[0mr_json\u001b[0m\u001b[1;33m[\u001b[0m\u001b[1;34m\"results\"\u001b[0m\u001b[1;33m]\u001b[0m\u001b[1;33m)\u001b[0m\u001b[1;33m)\u001b[0m\u001b[1;33m:\u001b[0m\u001b[1;33m\u001b[0m\u001b[1;33m\u001b[0m\u001b[0m\n\u001b[0m\u001b[0;32m     11\u001b[0m             \u001b[0mtweet\u001b[0m \u001b[1;33m=\u001b[0m \u001b[0mr_json\u001b[0m\u001b[1;33m[\u001b[0m\u001b[1;34m\"results\"\u001b[0m\u001b[1;33m]\u001b[0m\u001b[1;33m[\u001b[0m\u001b[0mi\u001b[0m\u001b[1;33m]\u001b[0m\u001b[1;33m\u001b[0m\u001b[1;33m\u001b[0m\u001b[0m\n\u001b[0;32m     12\u001b[0m             \u001b[0mcontainer\u001b[0m\u001b[1;33m[\u001b[0m\u001b[1;34m\"tweet_id\"\u001b[0m\u001b[1;33m]\u001b[0m\u001b[1;33m.\u001b[0m\u001b[0mappend\u001b[0m\u001b[1;33m(\u001b[0m\u001b[0mtweet\u001b[0m\u001b[1;33m[\u001b[0m\u001b[1;34m\"id_str\"\u001b[0m\u001b[1;33m]\u001b[0m\u001b[1;33m)\u001b[0m\u001b[1;33m\u001b[0m\u001b[1;33m\u001b[0m\u001b[0m\n",
      "\u001b[1;31mKeyError\u001b[0m: 'results'"
     ]
    }
   ],
   "source": [
    "i = 1\n",
    "\n",
    "while get_token_status():\n",
    "    token = r_json[\"next\"]\n",
    "    #set new url\n",
    "    url1 = \"https://api.twitter.com/1.1/tweets/search/fullarchive/devops.json?query=from:lusakatimes&maxResults=100&fromDate=202001010800&toDate=202008010800&next=\" + token \n",
    "    r1 = requests.get(url1, headers=headers)\n",
    "    r_json = r1.json()\n",
    "    #add to container\n",
    "    for i in range(len(r_json[\"results\"])):\n",
    "            tweet = r_json[\"results\"][i]\n",
    "            container[\"tweet_id\"].append(tweet[\"id_str\"])\n",
    "            container[\"created_at\"].append(tweet[\"created_at\"])\n",
    "            container[\"text\"].append(tweet[\"text\"])\n",
    "            container[\"retweet_count\"].append(tweet[\"retweet_count\"])\n",
    "            container[\"reply_count\"].append(tweet[\"reply_count\"])\n",
    "            container[\"favorite_count\"].append(tweet[\"favorite_count\"])\n",
    "            container[\"quote_count\"].append(tweet[\"quote_count\"])\n",
    "            \n",
    "            \n",
    "    if i == 14:\n",
    "        break\n",
    "    i += 1"
   ]
  },
  {
   "cell_type": "code",
   "execution_count": 85,
   "metadata": {},
   "outputs": [
    {
     "data": {
      "text/plain": [
       "{'error': {'message': 'Request exceeds account’s current package request limits. Please upgrade your package and retry or contact Twitter about enterprise access.',\n",
       "  'sent': '2021-08-16T00:03:59+00:00',\n",
       "  'transactionId': 'ccac223f2f8f88d0'}}"
      ]
     },
     "execution_count": 85,
     "metadata": {},
     "output_type": "execute_result"
    }
   ],
   "source": [
    "r_json"
   ]
  },
  {
   "cell_type": "code",
   "execution_count": 86,
   "metadata": {},
   "outputs": [],
   "source": [
    "frame1 = pd.DataFrame(container)"
   ]
  },
  {
   "cell_type": "code",
   "execution_count": 87,
   "metadata": {},
   "outputs": [
    {
     "name": "stdout",
     "output_type": "stream",
     "text": [
      "<class 'pandas.core.frame.DataFrame'>\n",
      "RangeIndex: 4900 entries, 0 to 4899\n",
      "Data columns (total 7 columns):\n",
      " #   Column          Non-Null Count  Dtype \n",
      "---  ------          --------------  ----- \n",
      " 0   tweet_id        4900 non-null   object\n",
      " 1   created_at      4900 non-null   object\n",
      " 2   text            4900 non-null   object\n",
      " 3   retweet_count   4900 non-null   int64 \n",
      " 4   quote_count     4900 non-null   int64 \n",
      " 5   reply_count     4900 non-null   int64 \n",
      " 6   favorite_count  4900 non-null   int64 \n",
      "dtypes: int64(4), object(3)\n",
      "memory usage: 268.1+ KB\n"
     ]
    }
   ],
   "source": [
    "frame1.info()"
   ]
  },
  {
   "cell_type": "markdown",
   "metadata": {},
   "source": [
    "## Save harvested tweets"
   ]
  },
  {
   "cell_type": "code",
   "execution_count": 89,
   "metadata": {},
   "outputs": [],
   "source": [
    "frame1.to_csv('tweets_harvested_data_final.csv',index=False)"
   ]
  },
  {
   "cell_type": "markdown",
   "metadata": {},
   "source": [
    "## Sample statistics"
   ]
  },
  {
   "cell_type": "code",
   "execution_count": 90,
   "metadata": {},
   "outputs": [
    {
     "data": {
      "text/html": [
       "<div>\n",
       "<style scoped>\n",
       "    .dataframe tbody tr th:only-of-type {\n",
       "        vertical-align: middle;\n",
       "    }\n",
       "\n",
       "    .dataframe tbody tr th {\n",
       "        vertical-align: top;\n",
       "    }\n",
       "\n",
       "    .dataframe thead th {\n",
       "        text-align: right;\n",
       "    }\n",
       "</style>\n",
       "<table border=\"1\" class=\"dataframe\">\n",
       "  <thead>\n",
       "    <tr style=\"text-align: right;\">\n",
       "      <th></th>\n",
       "      <th>retweet_count</th>\n",
       "      <th>quote_count</th>\n",
       "      <th>reply_count</th>\n",
       "      <th>favorite_count</th>\n",
       "    </tr>\n",
       "  </thead>\n",
       "  <tbody>\n",
       "    <tr>\n",
       "      <th>count</th>\n",
       "      <td>4900.000000</td>\n",
       "      <td>4900.000000</td>\n",
       "      <td>4900.000000</td>\n",
       "      <td>4900.000000</td>\n",
       "    </tr>\n",
       "    <tr>\n",
       "      <th>mean</th>\n",
       "      <td>1.442245</td>\n",
       "      <td>0.971020</td>\n",
       "      <td>2.351633</td>\n",
       "      <td>8.228367</td>\n",
       "    </tr>\n",
       "    <tr>\n",
       "      <th>std</th>\n",
       "      <td>4.061646</td>\n",
       "      <td>4.069008</td>\n",
       "      <td>5.335855</td>\n",
       "      <td>19.066773</td>\n",
       "    </tr>\n",
       "    <tr>\n",
       "      <th>min</th>\n",
       "      <td>0.000000</td>\n",
       "      <td>0.000000</td>\n",
       "      <td>0.000000</td>\n",
       "      <td>0.000000</td>\n",
       "    </tr>\n",
       "    <tr>\n",
       "      <th>25%</th>\n",
       "      <td>0.000000</td>\n",
       "      <td>0.000000</td>\n",
       "      <td>0.000000</td>\n",
       "      <td>2.000000</td>\n",
       "    </tr>\n",
       "    <tr>\n",
       "      <th>50%</th>\n",
       "      <td>1.000000</td>\n",
       "      <td>0.000000</td>\n",
       "      <td>1.000000</td>\n",
       "      <td>4.000000</td>\n",
       "    </tr>\n",
       "    <tr>\n",
       "      <th>75%</th>\n",
       "      <td>2.000000</td>\n",
       "      <td>1.000000</td>\n",
       "      <td>2.000000</td>\n",
       "      <td>9.000000</td>\n",
       "    </tr>\n",
       "    <tr>\n",
       "      <th>max</th>\n",
       "      <td>171.000000</td>\n",
       "      <td>126.000000</td>\n",
       "      <td>91.000000</td>\n",
       "      <td>596.000000</td>\n",
       "    </tr>\n",
       "  </tbody>\n",
       "</table>\n",
       "</div>"
      ],
      "text/plain": [
       "       retweet_count  quote_count  reply_count  favorite_count\n",
       "count    4900.000000  4900.000000  4900.000000     4900.000000\n",
       "mean        1.442245     0.971020     2.351633        8.228367\n",
       "std         4.061646     4.069008     5.335855       19.066773\n",
       "min         0.000000     0.000000     0.000000        0.000000\n",
       "25%         0.000000     0.000000     0.000000        2.000000\n",
       "50%         1.000000     0.000000     1.000000        4.000000\n",
       "75%         2.000000     1.000000     2.000000        9.000000\n",
       "max       171.000000   126.000000    91.000000      596.000000"
      ]
     },
     "execution_count": 90,
     "metadata": {},
     "output_type": "execute_result"
    }
   ],
   "source": [
    "frame1.describe()"
   ]
  },
  {
   "cell_type": "code",
   "execution_count": 91,
   "metadata": {},
   "outputs": [
    {
     "data": {
      "text/html": [
       "<div>\n",
       "<style scoped>\n",
       "    .dataframe tbody tr th:only-of-type {\n",
       "        vertical-align: middle;\n",
       "    }\n",
       "\n",
       "    .dataframe tbody tr th {\n",
       "        vertical-align: top;\n",
       "    }\n",
       "\n",
       "    .dataframe thead th {\n",
       "        text-align: right;\n",
       "    }\n",
       "</style>\n",
       "<table border=\"1\" class=\"dataframe\">\n",
       "  <thead>\n",
       "    <tr style=\"text-align: right;\">\n",
       "      <th></th>\n",
       "      <th>tweet_id</th>\n",
       "      <th>created_at</th>\n",
       "      <th>text</th>\n",
       "      <th>retweet_count</th>\n",
       "      <th>quote_count</th>\n",
       "      <th>reply_count</th>\n",
       "      <th>favorite_count</th>\n",
       "    </tr>\n",
       "  </thead>\n",
       "  <tbody>\n",
       "    <tr>\n",
       "      <th>0</th>\n",
       "      <td>1421713684791955460</td>\n",
       "      <td>Sun Aug 01 06:05:31 +0000 2021</td>\n",
       "      <td>https://t.co/DB8QOR5vBd\\nECZ says Investigatio...</td>\n",
       "      <td>1</td>\n",
       "      <td>2</td>\n",
       "      <td>1</td>\n",
       "      <td>14</td>\n",
       "    </tr>\n",
       "    <tr>\n",
       "      <th>1</th>\n",
       "      <td>1421711016732266504</td>\n",
       "      <td>Sun Aug 01 05:54:55 +0000 2021</td>\n",
       "      <td>https://t.co/nrJuxItvkr\\nChief Simamba castiga...</td>\n",
       "      <td>2</td>\n",
       "      <td>1</td>\n",
       "      <td>4</td>\n",
       "      <td>7</td>\n",
       "    </tr>\n",
       "    <tr>\n",
       "      <th>2</th>\n",
       "      <td>1421707047737991169</td>\n",
       "      <td>Sun Aug 01 05:39:08 +0000 2021</td>\n",
       "      <td>https://t.co/CJxF04D6jU\\nI Survived the Corona...</td>\n",
       "      <td>1</td>\n",
       "      <td>0</td>\n",
       "      <td>0</td>\n",
       "      <td>4</td>\n",
       "    </tr>\n",
       "    <tr>\n",
       "      <th>3</th>\n",
       "      <td>1421704125067235329</td>\n",
       "      <td>Sun Aug 01 05:27:32 +0000 2021</td>\n",
       "      <td>https://t.co/EwsIfq7fUR\\nZambia commits to sup...</td>\n",
       "      <td>0</td>\n",
       "      <td>0</td>\n",
       "      <td>2</td>\n",
       "      <td>6</td>\n",
       "    </tr>\n",
       "    <tr>\n",
       "      <th>4</th>\n",
       "      <td>1421702425434537984</td>\n",
       "      <td>Sun Aug 01 05:20:46 +0000 2021</td>\n",
       "      <td>https://t.co/r6XV81L8OG\\nThe Verification Proc...</td>\n",
       "      <td>1</td>\n",
       "      <td>0</td>\n",
       "      <td>0</td>\n",
       "      <td>8</td>\n",
       "    </tr>\n",
       "  </tbody>\n",
       "</table>\n",
       "</div>"
      ],
      "text/plain": [
       "              tweet_id                      created_at  \\\n",
       "0  1421713684791955460  Sun Aug 01 06:05:31 +0000 2021   \n",
       "1  1421711016732266504  Sun Aug 01 05:54:55 +0000 2021   \n",
       "2  1421707047737991169  Sun Aug 01 05:39:08 +0000 2021   \n",
       "3  1421704125067235329  Sun Aug 01 05:27:32 +0000 2021   \n",
       "4  1421702425434537984  Sun Aug 01 05:20:46 +0000 2021   \n",
       "\n",
       "                                                text  retweet_count  \\\n",
       "0  https://t.co/DB8QOR5vBd\\nECZ says Investigatio...              1   \n",
       "1  https://t.co/nrJuxItvkr\\nChief Simamba castiga...              2   \n",
       "2  https://t.co/CJxF04D6jU\\nI Survived the Corona...              1   \n",
       "3  https://t.co/EwsIfq7fUR\\nZambia commits to sup...              0   \n",
       "4  https://t.co/r6XV81L8OG\\nThe Verification Proc...              1   \n",
       "\n",
       "   quote_count  reply_count  favorite_count  \n",
       "0            2            1              14  \n",
       "1            1            4               7  \n",
       "2            0            0               4  \n",
       "3            0            2               6  \n",
       "4            0            0               8  "
      ]
     },
     "execution_count": 91,
     "metadata": {},
     "output_type": "execute_result"
    }
   ],
   "source": [
    "frame1.head()"
   ]
  },
  {
   "cell_type": "code",
   "execution_count": 92,
   "metadata": {},
   "outputs": [
    {
     "data": {
      "text/html": [
       "<div>\n",
       "<style scoped>\n",
       "    .dataframe tbody tr th:only-of-type {\n",
       "        vertical-align: middle;\n",
       "    }\n",
       "\n",
       "    .dataframe tbody tr th {\n",
       "        vertical-align: top;\n",
       "    }\n",
       "\n",
       "    .dataframe thead th {\n",
       "        text-align: right;\n",
       "    }\n",
       "</style>\n",
       "<table border=\"1\" class=\"dataframe\">\n",
       "  <thead>\n",
       "    <tr style=\"text-align: right;\">\n",
       "      <th></th>\n",
       "      <th>tweet_id</th>\n",
       "      <th>created_at</th>\n",
       "      <th>text</th>\n",
       "      <th>retweet_count</th>\n",
       "      <th>quote_count</th>\n",
       "      <th>reply_count</th>\n",
       "      <th>favorite_count</th>\n",
       "    </tr>\n",
       "  </thead>\n",
       "  <tbody>\n",
       "    <tr>\n",
       "      <th>4895</th>\n",
       "      <td>1240868957877424129</td>\n",
       "      <td>Fri Mar 20 05:13:08 +0000 2020</td>\n",
       "      <td>https://t.co/2RSia7jdaT\\nCholera more deadly t...</td>\n",
       "      <td>1</td>\n",
       "      <td>2</td>\n",
       "      <td>9</td>\n",
       "      <td>7</td>\n",
       "    </tr>\n",
       "    <tr>\n",
       "      <th>4896</th>\n",
       "      <td>1240868204588777477</td>\n",
       "      <td>Fri Mar 20 05:10:08 +0000 2020</td>\n",
       "      <td>https://t.co/EmqxNOXpQT\\nFAZ Suspends League O...</td>\n",
       "      <td>0</td>\n",
       "      <td>0</td>\n",
       "      <td>0</td>\n",
       "      <td>1</td>\n",
       "    </tr>\n",
       "    <tr>\n",
       "      <th>4897</th>\n",
       "      <td>1240865962129326081</td>\n",
       "      <td>Fri Mar 20 05:01:14 +0000 2020</td>\n",
       "      <td>https://t.co/wyYqAPCXV8\\nKanganja directs the ...</td>\n",
       "      <td>5</td>\n",
       "      <td>0</td>\n",
       "      <td>1</td>\n",
       "      <td>14</td>\n",
       "    </tr>\n",
       "    <tr>\n",
       "      <th>4898</th>\n",
       "      <td>1240862750848569344</td>\n",
       "      <td>Fri Mar 20 04:48:28 +0000 2020</td>\n",
       "      <td>https://t.co/T6h0xlmhbx\\nLusaka Water advises ...</td>\n",
       "      <td>2</td>\n",
       "      <td>0</td>\n",
       "      <td>1</td>\n",
       "      <td>3</td>\n",
       "    </tr>\n",
       "    <tr>\n",
       "      <th>4899</th>\n",
       "      <td>1240861937505894400</td>\n",
       "      <td>Fri Mar 20 04:45:14 +0000 2020</td>\n",
       "      <td>https://t.co/4dnuUEDZBH\\nUPND Justifies the be...</td>\n",
       "      <td>2</td>\n",
       "      <td>1</td>\n",
       "      <td>1</td>\n",
       "      <td>3</td>\n",
       "    </tr>\n",
       "  </tbody>\n",
       "</table>\n",
       "</div>"
      ],
      "text/plain": [
       "                 tweet_id                      created_at  \\\n",
       "4895  1240868957877424129  Fri Mar 20 05:13:08 +0000 2020   \n",
       "4896  1240868204588777477  Fri Mar 20 05:10:08 +0000 2020   \n",
       "4897  1240865962129326081  Fri Mar 20 05:01:14 +0000 2020   \n",
       "4898  1240862750848569344  Fri Mar 20 04:48:28 +0000 2020   \n",
       "4899  1240861937505894400  Fri Mar 20 04:45:14 +0000 2020   \n",
       "\n",
       "                                                   text  retweet_count  \\\n",
       "4895  https://t.co/2RSia7jdaT\\nCholera more deadly t...              1   \n",
       "4896  https://t.co/EmqxNOXpQT\\nFAZ Suspends League O...              0   \n",
       "4897  https://t.co/wyYqAPCXV8\\nKanganja directs the ...              5   \n",
       "4898  https://t.co/T6h0xlmhbx\\nLusaka Water advises ...              2   \n",
       "4899  https://t.co/4dnuUEDZBH\\nUPND Justifies the be...              2   \n",
       "\n",
       "      quote_count  reply_count  favorite_count  \n",
       "4895            2            9               7  \n",
       "4896            0            0               1  \n",
       "4897            0            1              14  \n",
       "4898            0            1               3  \n",
       "4899            1            1               3  "
      ]
     },
     "execution_count": 92,
     "metadata": {},
     "output_type": "execute_result"
    }
   ],
   "source": [
    "frame1.tail()"
   ]
  },
  {
   "cell_type": "code",
   "execution_count": 93,
   "metadata": {},
   "outputs": [
    {
     "data": {
      "text/plain": [
       "<AxesSubplot:>"
      ]
     },
     "execution_count": 93,
     "metadata": {},
     "output_type": "execute_result"
    },
    {
     "data": {
      "image/png": "[encoded data removed]",
      "text/plain": [
       "<Figure size 432x288 with 1 Axes>"
      ]
     },
     "metadata": {
      "needs_background": "light"
     },
     "output_type": "display_data"
    }
   ],
   "source": [
    "frame1.plot()"
   ]
  }
 ],
 "metadata": {
  "kernelspec": {
   "display_name": "Python 3",
   "language": "python",
   "name": "python3"
  },
  "language_info": {
   "codemirror_mode": {
    "name": "ipython",
    "version": 3
   },
   "file_extension": ".py",
   "mimetype": "text/x-python",
   "name": "python",
   "nbconvert_exporter": "python",
   "pygments_lexer": "ipython3",
   "version": "3.8.5"
  }
 },
 "nbformat": 4,
 "nbformat_minor": 4
}
